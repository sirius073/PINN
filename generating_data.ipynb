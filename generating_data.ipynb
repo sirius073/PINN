{
 "cells": [
  {
   "cell_type": "code",
   "execution_count": 1,
   "metadata": {},
   "outputs": [],
   "source": [
    "import numpy as np\n",
    "import scipy.io\n",
    "from scipy.integrate import solve_ivp\n",
    "import random"
   ]
  },
  {
   "cell_type": "code",
   "execution_count": 2,
   "metadata": {},
   "outputs": [],
   "source": [
    "def van_der_pol(t, y, mu):\n",
    "    dydt = [y[1], mu * (1 - y[0]**2) * y[1] - y[0]]\n",
    "    return dydt"
   ]
  },
  {
   "cell_type": "code",
   "execution_count": 3,
   "metadata": {},
   "outputs": [],
   "source": [
    "def generate_vdp_data(mu, num_samples, t_span, t_values):\n",
    "    X = []\n",
    "    Y = []\n",
    "    for _ in range(num_samples):\n",
    "        # Random initial conditions for each sample\n",
    "        y0 = [np.random.uniform(-2, 2), np.random.uniform(-2, 2)]  # Random y(0), v(0)\n",
    "\n",
    "        # Solve the ODE\n",
    "        sol = solve_ivp(van_der_pol, t_span, y0, args=(mu,), t_eval=t_values)\n",
    "\n",
    "        # Extract the solution for y(t) and v(t)\n",
    "        y_values = sol.y[0]  # y(t)\n",
    "        v_values = sol.y[1]  # v(t)\n",
    "\n",
    "        # Compute dv/dt from the solution using the Van der Pol equation\n",
    "        dvdt = mu * (1 - y_values**2) * v_values - y_values\n",
    "\n",
    "        # Store the input features (t, y(t), v(t)) and target dv/dt\n",
    "        X.extend(np.column_stack((t_values, y_values, v_values)))\n",
    "        Y.extend(dvdt)\n",
    "\n",
    "    return np.array(X), np.array(Y)"
   ]
  },
  {
   "cell_type": "code",
   "execution_count": 4,
   "metadata": {},
   "outputs": [],
   "source": [
    "mu = 5  # Nonlinearity parameter for the Van der Pol oscillator\n",
    "num_samples = 1000  # Number of ODE solutions (data points)\n",
    "t_span = (0, 20)  # Time span for the ODE solution\n",
    "t_values = np.linspace(0, 20, 500)  # Time points for interpolation (fixed grid)"
   ]
  },
  {
   "cell_type": "code",
   "execution_count": 5,
   "metadata": {},
   "outputs": [],
   "source": [
    "X_train, Y_train = generate_vdp_data(mu, num_samples, t_span, t_values)\n",
    "\n",
    "# Save the training data to a .mat file\n",
    "scipy.io.savemat('vanderpol_training_data.mat', {'X_train': X_train, 'Y_train': Y_train})\n"
   ]
  }
 ],
 "metadata": {
  "kernelspec": {
   "display_name": "Python 3",
   "language": "python",
   "name": "python3"
  },
  "language_info": {
   "codemirror_mode": {
    "name": "ipython",
    "version": 3
   },
   "file_extension": ".py",
   "mimetype": "text/x-python",
   "name": "python",
   "nbconvert_exporter": "python",
   "pygments_lexer": "ipython3",
   "version": "3.12.4"
  }
 },
 "nbformat": 4,
 "nbformat_minor": 2
}
